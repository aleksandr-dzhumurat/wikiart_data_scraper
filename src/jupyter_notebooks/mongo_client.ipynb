{
 "cells": [
  {
   "cell_type": "code",
   "execution_count": 8,
   "id": "2ee79b35",
   "metadata": {},
   "outputs": [],
   "source": [
    "from pymongo import MongoClient\n",
    "from bson.objectid import ObjectId"
   ]
  },
  {
   "cell_type": "code",
   "execution_count": 2,
   "id": "6d14a620",
   "metadata": {},
   "outputs": [
    {
     "name": "stdout",
     "output_type": "stream",
     "text": [
      "6465a833674b3a8a8cc17818\n"
     ]
    }
   ],
   "source": [
    "myclient = (\"mongodb://artinder_mongo:27017/\")\n",
    "myDB = myclient[\"myDB\"]\n",
    "userTable = myDB[\"Users\"]\n",
    "userDict={\"name\": \"tyler\"}\n",
    "\n",
    "_id = userTable.insert_one(userDict).inserted_id\n",
    "print(_id)"
   ]
  },
  {
   "cell_type": "code",
   "execution_count": 3,
   "id": "7380c190",
   "metadata": {},
   "outputs": [
    {
     "data": {
      "text/html": [
       "<div>\n",
       "<style scoped>\n",
       "    .dataframe tbody tr th:only-of-type {\n",
       "        vertical-align: middle;\n",
       "    }\n",
       "\n",
       "    .dataframe tbody tr th {\n",
       "        vertical-align: top;\n",
       "    }\n",
       "\n",
       "    .dataframe thead th {\n",
       "        text-align: right;\n",
       "    }\n",
       "</style>\n",
       "<table border=\"1\" class=\"dataframe\">\n",
       "  <thead>\n",
       "    <tr style=\"text-align: right;\">\n",
       "      <th></th>\n",
       "      <th>_id</th>\n",
       "      <th>name</th>\n",
       "    </tr>\n",
       "  </thead>\n",
       "  <tbody>\n",
       "    <tr>\n",
       "      <th>0</th>\n",
       "      <td>6465a833674b3a8a8cc17818</td>\n",
       "      <td>tyler</td>\n",
       "    </tr>\n",
       "  </tbody>\n",
       "</table>\n",
       "</div>"
      ],
      "text/plain": [
       "                        _id   name\n",
       "0  6465a833674b3a8a8cc17818  tyler"
      ]
     },
     "execution_count": 3,
     "metadata": {},
     "output_type": "execute_result"
    }
   ],
   "source": [
    "import pandas as pd\n",
    "\n",
    "pd.json_normalize(userTable.find({}))"
   ]
  },
  {
   "cell_type": "code",
   "execution_count": 9,
   "id": "7a55bd13",
   "metadata": {},
   "outputs": [
    {
     "data": {
      "text/html": [
       "<div>\n",
       "<style scoped>\n",
       "    .dataframe tbody tr th:only-of-type {\n",
       "        vertical-align: middle;\n",
       "    }\n",
       "\n",
       "    .dataframe tbody tr th {\n",
       "        vertical-align: top;\n",
       "    }\n",
       "\n",
       "    .dataframe thead th {\n",
       "        text-align: right;\n",
       "    }\n",
       "</style>\n",
       "<table border=\"1\" class=\"dataframe\">\n",
       "  <thead>\n",
       "    <tr style=\"text-align: right;\">\n",
       "      <th></th>\n",
       "      <th>_id</th>\n",
       "      <th>name</th>\n",
       "      <th>activity</th>\n",
       "    </tr>\n",
       "  </thead>\n",
       "  <tbody>\n",
       "    <tr>\n",
       "      <th>0</th>\n",
       "      <td>6465a833674b3a8a8cc17818</td>\n",
       "      <td>tyler</td>\n",
       "      <td>[{'content_id': 1, 'action': 'impression'}]</td>\n",
       "    </tr>\n",
       "  </tbody>\n",
       "</table>\n",
       "</div>"
      ],
      "text/plain": [
       "                        _id   name   \n",
       "0  6465a833674b3a8a8cc17818  tyler  \\\n",
       "\n",
       "                                      activity  \n",
       "0  [{'content_id': 1, 'action': 'impression'}]  "
      ]
     },
     "execution_count": 9,
     "metadata": {},
     "output_type": "execute_result"
    }
   ],
   "source": [
    "action = {'content_id': 1, 'action': 'impression'}\n",
    "\n",
    "userTable.update_one({'_id': ObjectId('6465a833674b3a8a8cc17818')}, {'$push': {'activity': action}})\n",
    "\n",
    "pd.json_normalize(userTable.find({}))"
   ]
  },
  {
   "cell_type": "code",
   "execution_count": null,
   "id": "7dda7443",
   "metadata": {},
   "outputs": [],
   "source": []
  },
  {
   "cell_type": "code",
   "execution_count": 10,
   "id": "9c8f6dbd",
   "metadata": {},
   "outputs": [
    {
     "data": {
      "text/plain": [
       "<pymongo.results.UpdateResult at 0x7f8aa0324f40>"
      ]
     },
     "execution_count": 10,
     "metadata": {},
     "output_type": "execute_result"
    }
   ],
   "source": [
    "action_2 = {'content_id': 2, 'action': 'impression'}\n",
    "\n",
    "userTable.update_one({'_id': ObjectId('6465a833674b3a8a8cc17818')}, {'$push': {'activity': action_2}})"
   ]
  },
  {
   "cell_type": "code",
   "execution_count": 11,
   "id": "e5873c89",
   "metadata": {},
   "outputs": [
    {
     "data": {
      "text/html": [
       "<div>\n",
       "<style scoped>\n",
       "    .dataframe tbody tr th:only-of-type {\n",
       "        vertical-align: middle;\n",
       "    }\n",
       "\n",
       "    .dataframe tbody tr th {\n",
       "        vertical-align: top;\n",
       "    }\n",
       "\n",
       "    .dataframe thead th {\n",
       "        text-align: right;\n",
       "    }\n",
       "</style>\n",
       "<table border=\"1\" class=\"dataframe\">\n",
       "  <thead>\n",
       "    <tr style=\"text-align: right;\">\n",
       "      <th></th>\n",
       "      <th>_id</th>\n",
       "      <th>name</th>\n",
       "      <th>activity</th>\n",
       "    </tr>\n",
       "  </thead>\n",
       "  <tbody>\n",
       "    <tr>\n",
       "      <th>0</th>\n",
       "      <td>6465a833674b3a8a8cc17818</td>\n",
       "      <td>tyler</td>\n",
       "      <td>[{'content_id': 1, 'action': 'impression'}, {'...</td>\n",
       "    </tr>\n",
       "  </tbody>\n",
       "</table>\n",
       "</div>"
      ],
      "text/plain": [
       "                        _id   name   \n",
       "0  6465a833674b3a8a8cc17818  tyler  \\\n",
       "\n",
       "                                            activity  \n",
       "0  [{'content_id': 1, 'action': 'impression'}, {'...  "
      ]
     },
     "execution_count": 11,
     "metadata": {},
     "output_type": "execute_result"
    }
   ],
   "source": [
    "pd.json_normalize(userTable.find({}))"
   ]
  },
  {
   "cell_type": "code",
   "execution_count": null,
   "id": "c2ea98f6",
   "metadata": {},
   "outputs": [],
   "source": []
  }
 ],
 "metadata": {
  "kernelspec": {
   "display_name": "Python 3 (ipykernel)",
   "language": "python",
   "name": "python3"
  },
  "language_info": {
   "codemirror_mode": {
    "name": "ipython",
    "version": 3
   },
   "file_extension": ".py",
   "mimetype": "text/x-python",
   "name": "python",
   "nbconvert_exporter": "python",
   "pygments_lexer": "ipython3",
   "version": "3.8.16"
  }
 },
 "nbformat": 4,
 "nbformat_minor": 5
}
