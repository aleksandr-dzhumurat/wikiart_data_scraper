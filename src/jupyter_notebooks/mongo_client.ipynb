{
 "cells": [
  {
   "cell_type": "code",
   "execution_count": 7,
   "id": "2ee79b35",
   "metadata": {},
   "outputs": [],
   "source": [
    "from pymongo import MongoClient\n",
    "from bson.objectid import ObjectId"
   ]
  },
  {
   "cell_type": "code",
   "execution_count": 45,
   "id": "6d14a620",
   "metadata": {},
   "outputs": [],
   "source": [
    "mongo_client = MongoClient(\"mongodb://artinder_mongo:27017/\")\n",
    "user_actions_collection = mongo_client['artswipe_db']['user_actions']\n"
   ]
  },
  {
   "cell_type": "code",
   "execution_count": 12,
   "id": "ec718634",
   "metadata": {},
   "outputs": [
    {
     "name": "stdout",
     "output_type": "stream",
     "text": [
      "646c69498eb1f9070d56e79a\n"
     ]
    }
   ],
   "source": [
    "# new_user_id = userTable.insert_one({'name': 'random_name', 'actions': []}).inserted_id\n",
    "print(new_user_id)"
   ]
  },
  {
   "cell_type": "code",
   "execution_count": 25,
   "id": "70338147",
   "metadata": {},
   "outputs": [
    {
     "name": "stdout",
     "output_type": "stream",
     "text": [
      "4.3.3\n"
     ]
    }
   ],
   "source": [
    "import pymongo\n",
    "\n",
    "print(pymongo.__version__)"
   ]
  },
  {
   "cell_type": "code",
   "execution_count": 115,
   "id": "7380c190",
   "metadata": {},
   "outputs": [
    {
     "name": "stdout",
     "output_type": "stream",
     "text": [
      "646db0b81fdb40816fc95d04\n"
     ]
    },
    {
     "data": {
      "text/html": [
       "<div>\n",
       "<style scoped>\n",
       "    .dataframe tbody tr th:only-of-type {\n",
       "        vertical-align: middle;\n",
       "    }\n",
       "\n",
       "    .dataframe tbody tr th {\n",
       "        vertical-align: top;\n",
       "    }\n",
       "\n",
       "    .dataframe thead th {\n",
       "        text-align: right;\n",
       "    }\n",
       "</style>\n",
       "<table border=\"1\" class=\"dataframe\">\n",
       "  <thead>\n",
       "    <tr style=\"text-align: right;\">\n",
       "      <th></th>\n",
       "      <th>content_tag</th>\n",
       "      <th>cnt</th>\n",
       "    </tr>\n",
       "  </thead>\n",
       "  <tbody>\n",
       "    <tr>\n",
       "      <th>0</th>\n",
       "      <td>stijl</td>\n",
       "      <td>1</td>\n",
       "    </tr>\n",
       "    <tr>\n",
       "      <th>1</th>\n",
       "      <td>neo-pop</td>\n",
       "      <td>1</td>\n",
       "    </tr>\n",
       "  </tbody>\n",
       "</table>\n",
       "</div>"
      ],
      "text/plain": [
       "  content_tag  cnt\n",
       "0       stijl    1\n",
       "1     neo-pop    1"
      ]
     },
     "execution_count": 115,
     "metadata": {},
     "output_type": "execute_result"
    }
   ],
   "source": [
    "import pandas as pd\n",
    "\n",
    "name = 'Running_Android'\n",
    "\n",
    "print(str(user_actions_collection.find_one({'name': name})['_id']))\n",
    "\n",
    "user_actions_df = (\n",
    "    pd\n",
    "    .json_normalize(\n",
    "        pd.json_normalize(user_actions_collection.find({'name': name}))\n",
    "        ['actions'][0]\n",
    "    )\n",
    ")\n",
    "\n",
    "# # .groupby('content_tag')['action'].count()\n",
    "\n",
    "# # table = pd.pivot_table(actions_df, values='D', index=['A', 'B'],\n",
    "# #                        columns=['C'], aggfunc=np.sum)\n",
    "\n",
    "user_negative_tags = user_actions_df.query(\"\"\"action=='dislike'\"\"\").content_tag.value_counts().to_frame(name='cnt').reset_index()\n",
    "user_positive_tags = user_actions_df.query(\"\"\"action=='like'\"\"\").content_tag.value_counts().to_frame(name='cnt').reset_index()\n",
    "\n",
    "user_positive_tags.head()\n"
   ]
  },
  {
   "cell_type": "code",
   "execution_count": 103,
   "id": "c6af64d9",
   "metadata": {},
   "outputs": [
    {
     "data": {
      "text/plain": [
       "0"
      ]
     },
     "execution_count": 103,
     "metadata": {},
     "output_type": "execute_result"
    }
   ],
   "source": [
    "name = 'Running_Androi'\n",
    "\n",
    "user_feedback = pd.json_normalize(user_actions_collection.find({'name': name}))\n",
    "if user_feedback.shape[0] > 0:\n",
    "    user_actions_df = (\n",
    "        pd\n",
    "        .json_normalize(\n",
    "            user_feedback\n",
    "            ['actions'][0]\n",
    "        )\n",
    "    )\n"
   ]
  },
  {
   "cell_type": "code",
   "execution_count": 114,
   "id": "298d4738",
   "metadata": {},
   "outputs": [
    {
     "data": {
      "text/html": [
       "<div>\n",
       "<style scoped>\n",
       "    .dataframe tbody tr th:only-of-type {\n",
       "        vertical-align: middle;\n",
       "    }\n",
       "\n",
       "    .dataframe tbody tr th {\n",
       "        vertical-align: top;\n",
       "    }\n",
       "\n",
       "    .dataframe thead th {\n",
       "        text-align: right;\n",
       "    }\n",
       "</style>\n",
       "<table border=\"1\" class=\"dataframe\">\n",
       "  <thead>\n",
       "    <tr style=\"text-align: right;\">\n",
       "      <th></th>\n",
       "      <th>tag</th>\n",
       "      <th>cnt</th>\n",
       "    </tr>\n",
       "  </thead>\n",
       "  <tbody>\n",
       "    <tr>\n",
       "      <th>65</th>\n",
       "      <td>neo-pop</td>\n",
       "      <td>23</td>\n",
       "    </tr>\n",
       "    <tr>\n",
       "      <th>90</th>\n",
       "      <td>stijl</td>\n",
       "      <td>11</td>\n",
       "    </tr>\n",
       "    <tr>\n",
       "      <th>0</th>\n",
       "      <td>art</td>\n",
       "      <td>1150</td>\n",
       "    </tr>\n",
       "    <tr>\n",
       "      <th>1</th>\n",
       "      <td>realism</td>\n",
       "      <td>415</td>\n",
       "    </tr>\n",
       "    <tr>\n",
       "      <th>2</th>\n",
       "      <td>expressionism</td>\n",
       "      <td>373</td>\n",
       "    </tr>\n",
       "    <tr>\n",
       "      <th>...</th>\n",
       "      <td>...</td>\n",
       "      <td>...</td>\n",
       "    </tr>\n",
       "    <tr>\n",
       "      <th>167</th>\n",
       "      <td>guro</td>\n",
       "      <td>2</td>\n",
       "    </tr>\n",
       "    <tr>\n",
       "      <th>168</th>\n",
       "      <td>timurid</td>\n",
       "      <td>2</td>\n",
       "    </tr>\n",
       "    <tr>\n",
       "      <th>169</th>\n",
       "      <td>ten</td>\n",
       "      <td>2</td>\n",
       "    </tr>\n",
       "    <tr>\n",
       "      <th>170</th>\n",
       "      <td>medieval</td>\n",
       "      <td>2</td>\n",
       "    </tr>\n",
       "    <tr>\n",
       "      <th>171</th>\n",
       "      <td>dynasties</td>\n",
       "      <td>2</td>\n",
       "    </tr>\n",
       "  </tbody>\n",
       "</table>\n",
       "<p>172 rows × 2 columns</p>\n",
       "</div>"
      ],
      "text/plain": [
       "               tag   cnt\n",
       "65         neo-pop    23\n",
       "90           stijl    11\n",
       "0              art  1150\n",
       "1          realism   415\n",
       "2    expressionism   373\n",
       "..             ...   ...\n",
       "167           guro     2\n",
       "168        timurid     2\n",
       "169            ten     2\n",
       "170       medieval     2\n",
       "171      dynasties     2\n",
       "\n",
       "[172 rows x 2 columns]"
      ]
     },
     "execution_count": 114,
     "metadata": {},
     "output_type": "execute_result"
    }
   ],
   "source": [
    "(\n",
    "    tags_df\n",
    "    .merge(user_negative_tags, how='left', left_on='tag', right_on='content_tag',suffixes=('','_neg'))\n",
    "    .query('cnt_neg.isnull()')\n",
    "    [['tag', 'cnt']]\n",
    "    .merge(user_positive_tags, how='left', left_on='tag', right_on='content_tag',suffixes=('','_pos'))\n",
    "    .sort_values('cnt_pos', ascending=False)\n",
    "    [['tag', 'cnt']]\n",
    ")"
   ]
  },
  {
   "cell_type": "code",
   "execution_count": 2,
   "id": "f8e4c679",
   "metadata": {},
   "outputs": [
    {
     "data": {
      "text/plain": [
       "24"
      ]
     },
     "execution_count": 2,
     "metadata": {},
     "output_type": "execute_result"
    }
   ],
   "source": [
    "len('6465a833674b3a8a8cc17818')"
   ]
  },
  {
   "cell_type": "code",
   "execution_count": 57,
   "id": "1c3e3e88",
   "metadata": {},
   "outputs": [
    {
     "data": {
      "text/plain": [
       "<Response [200]>"
      ]
     },
     "execution_count": 57,
     "metadata": {},
     "output_type": "execute_result"
    }
   ],
   "source": [
    "import requests\n",
    "\n",
    "requests.get('http://pickupartist_container:8090/items/364')"
   ]
  },
  {
   "cell_type": "code",
   "execution_count": 16,
   "id": "7a55bd13",
   "metadata": {},
   "outputs": [
    {
     "data": {
      "text/html": [
       "<div>\n",
       "<style scoped>\n",
       "    .dataframe tbody tr th:only-of-type {\n",
       "        vertical-align: middle;\n",
       "    }\n",
       "\n",
       "    .dataframe tbody tr th {\n",
       "        vertical-align: top;\n",
       "    }\n",
       "\n",
       "    .dataframe thead th {\n",
       "        text-align: right;\n",
       "    }\n",
       "</style>\n",
       "<table border=\"1\" class=\"dataframe\">\n",
       "  <thead>\n",
       "    <tr style=\"text-align: right;\">\n",
       "      <th></th>\n",
       "      <th>_id</th>\n",
       "      <th>name</th>\n",
       "      <th>activity</th>\n",
       "      <th>actions</th>\n",
       "    </tr>\n",
       "  </thead>\n",
       "  <tbody>\n",
       "    <tr>\n",
       "      <th>0</th>\n",
       "      <td>6465a833674b3a8a8cc17818</td>\n",
       "      <td>tyler</td>\n",
       "      <td>[{'content_id': 1, 'action': 'impression'}, {'...</td>\n",
       "      <td>NaN</td>\n",
       "    </tr>\n",
       "    <tr>\n",
       "      <th>1</th>\n",
       "      <td>646c68fc8eb1f9070d56e799</td>\n",
       "      <td>tyler</td>\n",
       "      <td>NaN</td>\n",
       "      <td>NaN</td>\n",
       "    </tr>\n",
       "    <tr>\n",
       "      <th>2</th>\n",
       "      <td>646c69498eb1f9070d56e79a</td>\n",
       "      <td>random_name</td>\n",
       "      <td>[{'content_id': 1, 'action': 'impression'}]</td>\n",
       "      <td>[{'content_id': 1, 'action': 'impression'}]</td>\n",
       "    </tr>\n",
       "  </tbody>\n",
       "</table>\n",
       "</div>"
      ],
      "text/plain": [
       "                        _id         name   \n",
       "0  6465a833674b3a8a8cc17818        tyler  \\\n",
       "1  646c68fc8eb1f9070d56e799        tyler   \n",
       "2  646c69498eb1f9070d56e79a  random_name   \n",
       "\n",
       "                                            activity   \n",
       "0  [{'content_id': 1, 'action': 'impression'}, {'...  \\\n",
       "1                                                NaN   \n",
       "2        [{'content_id': 1, 'action': 'impression'}]   \n",
       "\n",
       "                                       actions  \n",
       "0                                          NaN  \n",
       "1                                          NaN  \n",
       "2  [{'content_id': 1, 'action': 'impression'}]  "
      ]
     },
     "execution_count": 16,
     "metadata": {},
     "output_type": "execute_result"
    }
   ],
   "source": [
    "action = {'content_id': 1, 'action': 'impression'}\n",
    "\n",
    "userTable.update_one({'_id': ObjectId('646c69498eb1f9070d56e79a')}, {'$push': {'actions': action}})\n",
    "\n",
    "pd.json_normalize(userTable.find({}))"
   ]
  },
  {
   "cell_type": "code",
   "execution_count": 22,
   "id": "733535be",
   "metadata": {},
   "outputs": [
    {
     "data": {
      "text/html": [
       "<div>\n",
       "<style scoped>\n",
       "    .dataframe tbody tr th:only-of-type {\n",
       "        vertical-align: middle;\n",
       "    }\n",
       "\n",
       "    .dataframe tbody tr th {\n",
       "        vertical-align: top;\n",
       "    }\n",
       "\n",
       "    .dataframe thead th {\n",
       "        text-align: right;\n",
       "    }\n",
       "</style>\n",
       "<table border=\"1\" class=\"dataframe\">\n",
       "  <thead>\n",
       "    <tr style=\"text-align: right;\">\n",
       "      <th></th>\n",
       "      <th>_id</th>\n",
       "      <th>name</th>\n",
       "      <th>activity</th>\n",
       "      <th>actions</th>\n",
       "    </tr>\n",
       "  </thead>\n",
       "  <tbody>\n",
       "    <tr>\n",
       "      <th>0</th>\n",
       "      <td>6465a833674b3a8a8cc17818</td>\n",
       "      <td>tyler</td>\n",
       "      <td>[{'content_id': 1, 'action': 'impression'}, {'...</td>\n",
       "      <td>NaN</td>\n",
       "    </tr>\n",
       "    <tr>\n",
       "      <th>1</th>\n",
       "      <td>646c68fc8eb1f9070d56e799</td>\n",
       "      <td>tyler</td>\n",
       "      <td>NaN</td>\n",
       "      <td>NaN</td>\n",
       "    </tr>\n",
       "    <tr>\n",
       "      <th>2</th>\n",
       "      <td>646c69498eb1f9070d56e79a</td>\n",
       "      <td>random_name</td>\n",
       "      <td>[{'content_id': 1, 'action': 'impression'}]</td>\n",
       "      <td>[{'content_id': 1, 'action': 'impression'}, {'...</td>\n",
       "    </tr>\n",
       "  </tbody>\n",
       "</table>\n",
       "</div>"
      ],
      "text/plain": [
       "                        _id         name   \n",
       "0  6465a833674b3a8a8cc17818        tyler  \\\n",
       "1  646c68fc8eb1f9070d56e799        tyler   \n",
       "2  646c69498eb1f9070d56e79a  random_name   \n",
       "\n",
       "                                            activity   \n",
       "0  [{'content_id': 1, 'action': 'impression'}, {'...  \\\n",
       "1                                                NaN   \n",
       "2        [{'content_id': 1, 'action': 'impression'}]   \n",
       "\n",
       "                                             actions  \n",
       "0                                                NaN  \n",
       "1                                                NaN  \n",
       "2  [{'content_id': 1, 'action': 'impression'}, {'...  "
      ]
     },
     "execution_count": 22,
     "metadata": {},
     "output_type": "execute_result"
    }
   ],
   "source": [
    "action = {'content_id': 2, 'action': 'impression'}\n",
    "\n",
    "userTable.update_one({'_id': ObjectId('646c69498eb1f9070d56e79a')}, {'$push': {'actions': action}})\n",
    "\n",
    "pd.json_normalize(userTable.find({}))"
   ]
  },
  {
   "cell_type": "code",
   "execution_count": 82,
   "id": "7dda7443",
   "metadata": {},
   "outputs": [
    {
     "data": {
      "text/html": [
       "<div>\n",
       "<style scoped>\n",
       "    .dataframe tbody tr th:only-of-type {\n",
       "        vertical-align: middle;\n",
       "    }\n",
       "\n",
       "    .dataframe tbody tr th {\n",
       "        vertical-align: top;\n",
       "    }\n",
       "\n",
       "    .dataframe thead th {\n",
       "        text-align: right;\n",
       "    }\n",
       "</style>\n",
       "<table border=\"1\" class=\"dataframe\">\n",
       "  <thead>\n",
       "    <tr style=\"text-align: right;\">\n",
       "      <th></th>\n",
       "      <th>tag</th>\n",
       "      <th>cnt</th>\n",
       "    </tr>\n",
       "  </thead>\n",
       "  <tbody>\n",
       "    <tr>\n",
       "      <th>0</th>\n",
       "      <td>art</td>\n",
       "      <td>1150</td>\n",
       "    </tr>\n",
       "    <tr>\n",
       "      <th>1</th>\n",
       "      <td>realism</td>\n",
       "      <td>415</td>\n",
       "    </tr>\n",
       "    <tr>\n",
       "      <th>2</th>\n",
       "      <td>expressionism</td>\n",
       "      <td>373</td>\n",
       "    </tr>\n",
       "    <tr>\n",
       "      <th>3</th>\n",
       "      <td>romanticism</td>\n",
       "      <td>279</td>\n",
       "    </tr>\n",
       "    <tr>\n",
       "      <th>4</th>\n",
       "      <td>abstract</td>\n",
       "      <td>262</td>\n",
       "    </tr>\n",
       "  </tbody>\n",
       "</table>\n",
       "</div>"
      ],
      "text/plain": [
       "             tag   cnt\n",
       "0            art  1150\n",
       "1        realism   415\n",
       "2  expressionism   373\n",
       "3    romanticism   279\n",
       "4       abstract   262"
      ]
     },
     "execution_count": 82,
     "metadata": {},
     "output_type": "execute_result"
    }
   ],
   "source": [
    "import os\n",
    "\n",
    "tags_df = pd.read_csv('/srv/data/content_tags_v01.csv')\n",
    "\n",
    "tags_df.head()"
   ]
  },
  {
   "cell_type": "code",
   "execution_count": 24,
   "id": "9c8f6dbd",
   "metadata": {},
   "outputs": [
    {
     "data": {
      "text/plain": [
       "<pymongo.results.UpdateResult at 0x7f1e18256370>"
      ]
     },
     "execution_count": 24,
     "metadata": {},
     "output_type": "execute_result"
    }
   ],
   "source": [
    "action_2 = {'content_id': 1, 'action': 'like'}\n",
    "\n",
    "userTable.update_one({'_id': ObjectId('646c69498eb1f9070d56e79a')}, {'$push': {'activity': action_2}})"
   ]
  },
  {
   "cell_type": "code",
   "execution_count": 11,
   "id": "e5873c89",
   "metadata": {},
   "outputs": [
    {
     "data": {
      "text/html": [
       "<div>\n",
       "<style scoped>\n",
       "    .dataframe tbody tr th:only-of-type {\n",
       "        vertical-align: middle;\n",
       "    }\n",
       "\n",
       "    .dataframe tbody tr th {\n",
       "        vertical-align: top;\n",
       "    }\n",
       "\n",
       "    .dataframe thead th {\n",
       "        text-align: right;\n",
       "    }\n",
       "</style>\n",
       "<table border=\"1\" class=\"dataframe\">\n",
       "  <thead>\n",
       "    <tr style=\"text-align: right;\">\n",
       "      <th></th>\n",
       "      <th>_id</th>\n",
       "      <th>name</th>\n",
       "      <th>activity</th>\n",
       "    </tr>\n",
       "  </thead>\n",
       "  <tbody>\n",
       "    <tr>\n",
       "      <th>0</th>\n",
       "      <td>6465a833674b3a8a8cc17818</td>\n",
       "      <td>tyler</td>\n",
       "      <td>[{'content_id': 1, 'action': 'impression'}, {'...</td>\n",
       "    </tr>\n",
       "  </tbody>\n",
       "</table>\n",
       "</div>"
      ],
      "text/plain": [
       "                        _id   name   \n",
       "0  6465a833674b3a8a8cc17818  tyler  \\\n",
       "\n",
       "                                            activity  \n",
       "0  [{'content_id': 1, 'action': 'impression'}, {'...  "
      ]
     },
     "execution_count": 11,
     "metadata": {},
     "output_type": "execute_result"
    }
   ],
   "source": [
    "pd.json_normalize(userTable.find({}))"
   ]
  },
  {
   "cell_type": "code",
   "execution_count": null,
   "id": "c2ea98f6",
   "metadata": {},
   "outputs": [],
   "source": []
  }
 ],
 "metadata": {
  "kernelspec": {
   "display_name": "Python 3 (ipykernel)",
   "language": "python",
   "name": "python3"
  },
  "language_info": {
   "codemirror_mode": {
    "name": "ipython",
    "version": 3
   },
   "file_extension": ".py",
   "mimetype": "text/x-python",
   "name": "python",
   "nbconvert_exporter": "python",
   "pygments_lexer": "ipython3",
   "version": "3.8.16"
  }
 },
 "nbformat": 4,
 "nbformat_minor": 5
}
