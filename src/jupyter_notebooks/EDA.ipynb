{
 "cells": [
  {
   "cell_type": "code",
   "execution_count": 23,
   "id": "e0905f1e",
   "metadata": {},
   "outputs": [],
   "source": [
    "import numpy as np\n",
    "import pandas as pd\n"
   ]
  },
  {
   "cell_type": "code",
   "execution_count": 90,
   "id": "53a919f3",
   "metadata": {},
   "outputs": [
    {
     "name": "stderr",
     "output_type": "stream",
     "text": [
      "[nltk_data] Downloading package stopwords to /srv/data/nltk_data...\n"
     ]
    },
    {
     "name": "stdout",
     "output_type": "stream",
     "text": [
      "{'further', 'can', 'ours', \"hasn't\", 'did', 'other', 'too', \"you'd\", 'doing', 'over', 'all', 'before', 'hadn', 'out', \"shan't\", \"she's\", 'its', 'each', \"won't\", \"mightn't\", \"aren't\", 'than', 'will', 'his', 'during', 'how', 'both', 'm', 'are', 'that', 'themselves', 'an', \"shouldn't\", 'then', 'up', 'most', 'hasn', 'into', \"weren't\", 'couldn', 'me', 'has', 'aren', 'am', 'y', 'once', 'weren', 'they', 'of', 'itself', 'in', 'nor', 'had', 'it', 'didn', 'as', 'their', \"didn't\", 'a', 'isn', 'them', 'any', \"should've\", 'just', 'not', 'on', \"it's\", 'more', 'some', 'haven', \"you're\", 'himself', 'shan', 'if', 'herself', 'ourselves', \"mustn't\", 'should', 'only', 'which', 'now', 'the', 'very', 'such', \"isn't\", 'wasn', 'mustn', 'her', 'against', 'wouldn', 'yourselves', 'myself', 'my', 'were', 'this', 'at', 'him', \"that'll\", 'above', \"wasn't\", 'what', 'd', \"you've\", \"you'll\", 'ma', 'these', 'between', 'was', 's', 'who', 'from', 'but', 'no', 'have', 't', 'll', 'about', \"needn't\", 'having', 'so', 'where', 'mightn', 'shouldn', 'needn', 'below', \"haven't\", 'our', 'don', 'same', 'yours', 'and', 'again', 'those', 'or', 'under', \"wouldn't\", 'own', 'been', 'we', 'when', 'to', 'being', 'there', 'why', 'won', 'she', 'down', 'be', 'he', 'with', 'doesn', 'ain', 'does', 'you', 've', \"hadn't\", 'for', 'until', 'through', 'theirs', 'do', \"doesn't\", 'o', 'is', 'your', \"don't\", 'i', 'because', 'here', 'hers', 'few', 'by', 'yourself', 're', \"couldn't\", 'after', 'while', 'whom', 'off'}\n"
     ]
    },
    {
     "name": "stderr",
     "output_type": "stream",
     "text": [
      "[nltk_data]   Unzipping corpora/stopwords.zip.\n"
     ]
    }
   ],
   "source": [
    "from IPython.display import clear_output\n",
    "!pip install nltk==3.6.2\n",
    "clear_output()\n",
    "\n",
    "import nltk\n",
    "\n",
    "nltk.download('stopwords', download_dir=nltk_data_dir) \n",
    "\n",
    "nltk.data.path.append(nltk_data_dir)\n",
    "\n",
    "from nltk.corpus import stopwords\n",
    "stop_words = set(stopwords.words('english')) \n",
    "\n",
    "print(stop_words)"
   ]
  },
  {
   "cell_type": "code",
   "execution_count": 57,
   "id": "a881d5e7",
   "metadata": {},
   "outputs": [
    {
     "data": {
      "text/plain": [
       "3040"
      ]
     },
     "execution_count": 57,
     "metadata": {},
     "output_type": "execute_result"
    }
   ],
   "source": []
  },
  {
   "cell_type": "code",
   "execution_count": null,
   "id": "fb2e9738",
   "metadata": {},
   "outputs": [],
   "source": []
  }
 ],
 "metadata": {
  "kernelspec": {
   "display_name": "Python 3 (ipykernel)",
   "language": "python",
   "name": "python3"
  },
  "language_info": {
   "codemirror_mode": {
    "name": "ipython",
    "version": 3
   },
   "file_extension": ".py",
   "mimetype": "text/x-python",
   "name": "python",
   "nbconvert_exporter": "python",
   "pygments_lexer": "ipython3",
   "version": "3.8.16"
  }
 },
 "nbformat": 4,
 "nbformat_minor": 5
}
