{
 "cells": [
  {
   "cell_type": "code",
   "execution_count": 1,
   "id": "e0905f1e",
   "metadata": {},
   "outputs": [],
   "source": [
    "import numpy as np\n",
    "import pandas as pd\n"
   ]
  },
  {
   "cell_type": "code",
   "execution_count": 3,
   "id": "53a919f3",
   "metadata": {},
   "outputs": [
    {
     "name": "stdout",
     "output_type": "stream",
     "text": [
      "{'her', 'other', 'haven', 'to', 'more', 'did', 'no', 'mightn', 'will', \"isn't\", \"weren't\", 'been', 'an', 'll', 'out', 'from', \"don't\", 'aren', 'd', 'ourselves', 'myself', \"didn't\", 'off', \"hadn't\", \"you're\", 'our', 'my', 'in', 'as', 'by', 'wouldn', 'has', 'shan', 'such', 'too', 'just', 'those', 'them', 'didn', 'his', 'through', 'during', 'yourself', 'should', 'ain', \"doesn't\", 'itself', 'again', 'above', 'yours', 'being', \"hasn't\", \"you'd\", \"you'll\", 'wasn', 'won', 'into', 'couldn', 'isn', \"she's\", 'be', 'o', 'had', 'what', \"wouldn't\", 'most', 'were', 't', 'have', 'some', 'ours', 'why', \"it's\", \"mightn't\", 'mustn', 'at', 'over', 'after', 'these', 'both', 'your', 'don', \"shouldn't\", 'it', \"aren't\", 'its', 'but', 'of', 'weren', \"that'll\", 've', 'he', 'nor', \"haven't\", 'him', 'himself', 'there', \"you've\", 'any', 'doesn', 'theirs', 'how', 'then', 'all', 'very', 'ma', 'are', 'under', 'with', 'having', 'doing', 'few', 'their', 'or', 's', 'hadn', 'the', 'against', 'yourselves', 'm', 'am', 'was', 'which', 'a', 'for', 'below', 'y', 'up', 'shouldn', 'than', 'does', 'until', 'only', 'that', 'hasn', 'now', 'hers', 'when', 'who', 'we', 're', 'can', 'and', \"shan't\", 'because', 'needn', 'this', 'so', 'between', 'is', 'once', \"mustn't\", 'not', 'on', 'you', 'themselves', 'before', \"won't\", 'where', 'same', 'do', \"couldn't\", 'she', 'here', 'about', 'herself', 'each', 'me', \"needn't\", 'down', 'they', 'whom', 'while', 'further', 'if', \"wasn't\", \"should've\", 'i', 'own'}\n"
     ]
    },
    {
     "name": "stderr",
     "output_type": "stream",
     "text": [
      "[nltk_data] Downloading package stopwords to /srv/data/nltk_dir...\n",
      "[nltk_data]   Unzipping corpora/stopwords.zip.\n"
     ]
    }
   ],
   "source": [
    "from IPython.display import clear_output\n",
    "!pip install nltk==3.6.2\n",
    "clear_output()\n",
    "\n",
    "import nltk\n",
    "\n",
    "nltk_data_dir = '/srv/data/nltk_dir'\n",
    "\n",
    "nltk.download('stopwords', download_dir=nltk_data_dir) \n",
    "\n",
    "nltk.data.path.append(nltk_data_dir)\n",
    "\n",
    "from nltk.corpus import stopwords\n",
    "stop_words = set(stopwords.words('english')) \n",
    "\n",
    "print(stop_words)"
   ]
  },
  {
   "cell_type": "code",
   "execution_count": 8,
   "id": "a881d5e7",
   "metadata": {},
   "outputs": [
    {
     "data": {
      "text/plain": [
       "['https://uploads6.wikiart.org/images/charles-tunnicliffe/gull-gallery(1).jpg!Large.jpg',\n",
       " 'https://uploads1.wikiart.org/images/charles-tunnicliffe/owl-on-a-snowy-tree-trunk(1).jpg!Large.jpg',\n",
       " 'https://uploads5.wikiart.org/images/charles-tunnicliffe/geese-and-hoar-frost(1).jpg!Large.jpg',\n",
       " 'https://uploads1.wikiart.org/images/charles-tunnicliffe/goldeneye-in-a-snow-storm(1).jpg!Large.jpg',\n",
       " 'https://uploads4.wikiart.org/images/charles-tunnicliffe/the-rivals(1).jpg!Large.jpg',\n",
       " 'https://uploads3.wikiart.org/images/charles-tunnicliffe/black-headed-gulls(1).jpg!Large.jpg',\n",
       " 'https://uploads8.wikiart.org/images/charles-tunnicliffe/mandarin-ducks(1).jpg!Large.jpg',\n",
       " 'https://uploads3.wikiart.org/images/charles-tunnicliffe/snowy-owl(1).jpg!Large.jpg',\n",
       " 'https://uploads7.wikiart.org/images/charles-tunnicliffe/teal(1).jpg!Large.jpg',\n",
       " 'https://uploads2.wikiart.org/images/charles-tunnicliffe/water-reflections(1).jpg!Large.jpg',\n",
       " 'https://uploads4.wikiart.org/images/charles-tunnicliffe/buzzard-in-the-rain(1).jpg!Large.jpg']"
      ]
     },
     "execution_count": 8,
     "metadata": {},
     "output_type": "execute_result"
    }
   ],
   "source": [
    "import os\n",
    "import json\n",
    "import requests\n",
    "import time\n",
    "from typing import List, Dict\n",
    "\n",
    "import pandas as pd\n",
    "from bs4 import BeautifulSoup\n",
    "\n",
    "def get_artwork_by_url(url) -> str:\n",
    "    artwork_web_page = requests.get(url)\n",
    "    artwork_scraper = BeautifulSoup(markup=artwork_web_page.content, features=\"html.parser\")\n",
    "    class_ = 'wiki-layout-artist-image-wrapper'\n",
    "    artwork_block = artwork_scraper.find(name='div', class_=class_)\n",
    "    res = artwork_block.find('img')['src']\n",
    "    return res\n",
    "\n",
    "def get_artworks_links(artworks_url: str, limit: int = 10):\n",
    "    # artworks_page = request_retries(artworks_url).content\n",
    "    # artworks_page = get_html(artworks_url, 'artworks_raw_html')\n",
    "    artworks_page = requests.get(artworks_url)\n",
    "    artworks_array = []\n",
    "    if artworks_page is not None:\n",
    "        artwork_links_collector: BeautifulSoup = BeautifulSoup(markup=artworks_page.content, features=\"html.parser\")\n",
    "        BASE_URL = \"https://www.wikiart.org\"\n",
    "        img_link_set = artwork_links_collector.find(name='ul', class_='painting-list-text')\n",
    "        if img_link_set is not None:\n",
    "            img_iter = img_link_set.find_all(name='li')\n",
    "            exception_occured = False\n",
    "            artwork_cnt = 0\n",
    "            for i in img_iter:\n",
    "                if artwork_cnt > limit:\n",
    "                    break\n",
    "                try:\n",
    "                    link = i.find('a')['href']\n",
    "                    artwork_url = os.path.join(BASE_URL, link[1:])\n",
    "                    artworks_array.append(get_artwork_by_url(artwork_url))\n",
    "                    artwork_cnt += 1\n",
    "                except Exception as e:\n",
    "                    if not exception_occured:\n",
    "                        logger.error('url: %s, error %s', artworks_url, e)\n",
    "                        exception_occured = True\n",
    "    return artworks_array\n",
    "\n",
    "works_url = 'https://www.wikiart.org/en/charles-tunnicliffe/all-works/text-list'\n",
    "get_artworks_links(works_url)"
   ]
  },
  {
   "cell_type": "code",
   "execution_count": 10,
   "id": "fb2e9738",
   "metadata": {},
   "outputs": [
    {
     "data": {
      "text/plain": [
       "'/srv/data/'"
      ]
     },
     "execution_count": 10,
     "metadata": {},
     "output_type": "execute_result"
    }
   ],
   "source": [
    "os.path.join('/srv/data', '')"
   ]
  },
  {
   "cell_type": "code",
   "execution_count": 13,
   "id": "95ac67ce-06ff-4f66-8518-a1d3d2f15678",
   "metadata": {},
   "outputs": [
    {
     "data": {
      "text/html": [
       "<div>\n",
       "<style scoped>\n",
       "    .dataframe tbody tr th:only-of-type {\n",
       "        vertical-align: middle;\n",
       "    }\n",
       "\n",
       "    .dataframe tbody tr th {\n",
       "        vertical-align: top;\n",
       "    }\n",
       "\n",
       "    .dataframe thead th {\n",
       "        text-align: right;\n",
       "    }\n",
       "</style>\n",
       "<table border=\"1\" class=\"dataframe\">\n",
       "  <thead>\n",
       "    <tr style=\"text-align: right;\">\n",
       "      <th></th>\n",
       "      <th>artist_name</th>\n",
       "      <th>art movement</th>\n",
       "      <th>nationality</th>\n",
       "      <th>field</th>\n",
       "      <th>artist_pic</th>\n",
       "      <th>wikipedia</th>\n",
       "      <th>artist_url</th>\n",
       "      <th>artist_name_check</th>\n",
       "      <th>artworks_url</th>\n",
       "      <th>artworks</th>\n",
       "    </tr>\n",
       "  </thead>\n",
       "  <tbody>\n",
       "    <tr>\n",
       "      <th>0</th>\n",
       "      <td>Hans von Aachen</td>\n",
       "      <td>Mannerism (Late Renaissance), Northern Renaiss...</td>\n",
       "      <td>German</td>\n",
       "      <td>painting</td>\n",
       "      <td>https://uploads8.wikiart.org/temp/e4d609cf-bbc...</td>\n",
       "      <td>en.wikipedia.org/wiki/Hans_von_Aachen</td>\n",
       "      <td>https://www.wikiart.org/en/hans-von-aachen</td>\n",
       "      <td>Hans von Aachen</td>\n",
       "      <td>https://www.wikiart.org/en/hans-von-aachen/all...</td>\n",
       "      <td>[\"https://uploads5.wikiart.org/images/hans-von...</td>\n",
       "    </tr>\n",
       "    <tr>\n",
       "      <th>1</th>\n",
       "      <td>Vilmos Aba-Novak</td>\n",
       "      <td>Expressionism</td>\n",
       "      <td>Hungarian</td>\n",
       "      <td>painting, fresco, graphics painting fresco , g...</td>\n",
       "      <td>https://uploads4.wikiart.org/images/vilmos-aba...</td>\n",
       "      <td>en.wikipedia.org/wiki/Vilmos_Aba-Novák</td>\n",
       "      <td>https://www.wikiart.org/en/vilmos-aba-novak</td>\n",
       "      <td>Vilmos Aba-Novak</td>\n",
       "      <td>https://www.wikiart.org/en/vilmos-aba-novak/al...</td>\n",
       "      <td>[\"https://uploads5.wikiart.org/images/hans-von...</td>\n",
       "    </tr>\n",
       "    <tr>\n",
       "      <th>2</th>\n",
       "      <td>Reza Abbasi</td>\n",
       "      <td>Safavid Period (before 1600) , Safavid Period ...</td>\n",
       "      <td>Iranian</td>\n",
       "      <td>painting</td>\n",
       "      <td>https://uploads8.wikiart.org/temp/b08c3cef-4f3...</td>\n",
       "      <td>en.wikipedia.org/wiki/Reza_Abbasi</td>\n",
       "      <td>https://www.wikiart.org/en/reza-abbasi</td>\n",
       "      <td>Reza Abbasi</td>\n",
       "      <td>https://www.wikiart.org/en/reza-abbasi/all-wor...</td>\n",
       "      <td>[\"https://uploads5.wikiart.org/images/hans-von...</td>\n",
       "    </tr>\n",
       "    <tr>\n",
       "      <th>3</th>\n",
       "      <td>Giuseppe Abbati</td>\n",
       "      <td>Impressionism Impressionism, Realism , Realism</td>\n",
       "      <td>Italian</td>\n",
       "      <td>painting</td>\n",
       "      <td>https://uploads7.wikiart.org/00277/images/gius...</td>\n",
       "      <td>en.wikipedia.org/wiki/Giuseppe_Abbati</td>\n",
       "      <td>https://www.wikiart.org/en/giuseppe-abbati</td>\n",
       "      <td>Giuseppe Abbati</td>\n",
       "      <td>https://www.wikiart.org/en/giuseppe-abbati/all...</td>\n",
       "      <td>[\"https://uploads5.wikiart.org/images/hans-von...</td>\n",
       "    </tr>\n",
       "    <tr>\n",
       "      <th>4</th>\n",
       "      <td>Vincenzo Abbati</td>\n",
       "      <td>Romanticism</td>\n",
       "      <td>Italian</td>\n",
       "      <td>painting</td>\n",
       "      <td>https://uploads8.wikiart.org/00335/images/vinc...</td>\n",
       "      <td>en.wikipedia.org/wiki/Vincenzo_Abbati</td>\n",
       "      <td>https://www.wikiart.org/en/vincenzo-abbati</td>\n",
       "      <td>Vincenzo Abbati</td>\n",
       "      <td>https://www.wikiart.org/en/vincenzo-abbati/all...</td>\n",
       "      <td>[\"https://uploads5.wikiart.org/images/hans-von...</td>\n",
       "    </tr>\n",
       "  </tbody>\n",
       "</table>\n",
       "</div>"
      ],
      "text/plain": [
       "        artist_name                                       art movement  \\\n",
       "0   Hans von Aachen  Mannerism (Late Renaissance), Northern Renaiss...   \n",
       "1  Vilmos Aba-Novak                                      Expressionism   \n",
       "2       Reza Abbasi  Safavid Period (before 1600) , Safavid Period ...   \n",
       "3   Giuseppe Abbati     Impressionism Impressionism, Realism , Realism   \n",
       "4   Vincenzo Abbati                                        Romanticism   \n",
       "\n",
       "  nationality                                              field  \\\n",
       "0      German                                           painting   \n",
       "1   Hungarian  painting, fresco, graphics painting fresco , g...   \n",
       "2     Iranian                                           painting   \n",
       "3     Italian                                           painting   \n",
       "4     Italian                                           painting   \n",
       "\n",
       "                                          artist_pic  \\\n",
       "0  https://uploads8.wikiart.org/temp/e4d609cf-bbc...   \n",
       "1  https://uploads4.wikiart.org/images/vilmos-aba...   \n",
       "2  https://uploads8.wikiart.org/temp/b08c3cef-4f3...   \n",
       "3  https://uploads7.wikiart.org/00277/images/gius...   \n",
       "4  https://uploads8.wikiart.org/00335/images/vinc...   \n",
       "\n",
       "                                wikipedia  \\\n",
       "0   en.wikipedia.org/wiki/Hans_von_Aachen   \n",
       "1  en.wikipedia.org/wiki/Vilmos_Aba-Novák   \n",
       "2       en.wikipedia.org/wiki/Reza_Abbasi   \n",
       "3   en.wikipedia.org/wiki/Giuseppe_Abbati   \n",
       "4   en.wikipedia.org/wiki/Vincenzo_Abbati   \n",
       "\n",
       "                                    artist_url artist_name_check  \\\n",
       "0   https://www.wikiart.org/en/hans-von-aachen   Hans von Aachen   \n",
       "1  https://www.wikiart.org/en/vilmos-aba-novak  Vilmos Aba-Novak   \n",
       "2       https://www.wikiart.org/en/reza-abbasi       Reza Abbasi   \n",
       "3   https://www.wikiart.org/en/giuseppe-abbati   Giuseppe Abbati   \n",
       "4   https://www.wikiart.org/en/vincenzo-abbati   Vincenzo Abbati   \n",
       "\n",
       "                                        artworks_url  \\\n",
       "0  https://www.wikiart.org/en/hans-von-aachen/all...   \n",
       "1  https://www.wikiart.org/en/vilmos-aba-novak/al...   \n",
       "2  https://www.wikiart.org/en/reza-abbasi/all-wor...   \n",
       "3  https://www.wikiart.org/en/giuseppe-abbati/all...   \n",
       "4  https://www.wikiart.org/en/vincenzo-abbati/all...   \n",
       "\n",
       "                                            artworks  \n",
       "0  [\"https://uploads5.wikiart.org/images/hans-von...  \n",
       "1  [\"https://uploads5.wikiart.org/images/hans-von...  \n",
       "2  [\"https://uploads5.wikiart.org/images/hans-von...  \n",
       "3  [\"https://uploads5.wikiart.org/images/hans-von...  \n",
       "4  [\"https://uploads5.wikiart.org/images/hans-von...  "
      ]
     },
     "execution_count": 13,
     "metadata": {},
     "output_type": "execute_result"
    }
   ],
   "source": [
    "pd.read_csv('/srv/data/06_content_db.csv.gz', compression=\"gzip\").head()"
   ]
  },
  {
   "cell_type": "code",
   "execution_count": null,
   "id": "bf73a45c-a7a0-4861-871d-c031644f6954",
   "metadata": {},
   "outputs": [],
   "source": []
  }
 ],
 "metadata": {
  "kernelspec": {
   "display_name": "Python 3 (ipykernel)",
   "language": "python",
   "name": "python3"
  },
  "language_info": {
   "codemirror_mode": {
    "name": "ipython",
    "version": 3
   },
   "file_extension": ".py",
   "mimetype": "text/x-python",
   "name": "python",
   "nbconvert_exporter": "python",
   "pygments_lexer": "ipython3",
   "version": "3.12.4"
  }
 },
 "nbformat": 4,
 "nbformat_minor": 5
}
